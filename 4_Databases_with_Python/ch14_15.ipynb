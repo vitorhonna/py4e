{
 "cells": [
  {
   "cell_type": "markdown",
   "metadata": {},
   "source": [
    "# Chapter 14: Object-oriented programming"
   ]
  },
  {
   "cell_type": "markdown",
   "metadata": {},
   "source": [
    "## - Object Oriented Python (week 1)"
   ]
  },
  {
   "cell_type": "code",
   "execution_count": 44,
   "metadata": {},
   "outputs": [
    {
     "name": "stdout",
     "output_type": "stream",
     "text": [
      "I am destructed :(\n",
      "Rex is black\n",
      "Rex is 2 years old\n",
      "Rex has 4 paws\n",
      "Woof woof\n",
      "Type: <class '__main__.Dog'>\n",
      "Dir: ['__class__', '__del__', '__delattr__', '__dict__', '__dir__', '__doc__', '__eq__', '__format__', '__ge__', '__getattribute__', '__gt__', '__hash__', '__init__', '__init_subclass__', '__le__', '__lt__', '__module__', '__ne__', '__new__', '__reduce__', '__reduce_ex__', '__repr__', '__setattr__', '__sizeof__', '__str__', '__subclasshook__', '__weakref__', 'age', 'bark', 'color', 'name', 'paws']\n",
      "I am destructed :(\n"
     ]
    }
   ],
   "source": [
    "# Classes (cookie cutter) and Objects (cookie)\n",
    "\n",
    "class Dog:\n",
    "    # Constructor\n",
    "    def __init__(self, name, color, age):\n",
    "        # Attributes defined when instantiating the object\n",
    "        self.name = name\n",
    "        self.color = color\n",
    "        self.age = age\n",
    "\n",
    "    # Attribute\n",
    "    paws = 4\n",
    "\n",
    "    # Method\n",
    "    def bark(self):\n",
    "        print(\"Woof woof\")\n",
    "\n",
    "    # Destructor\n",
    "    def __del__(self):\n",
    "        print('I am destructed :(')\n",
    "\n",
    "# This instantiates the object\n",
    "rex = Dog('Rex', 'black', 2)\n",
    "\n",
    "print(f'{rex.name} is {rex.color}')\n",
    "print(f'{rex.name} is {rex.age} years old')\n",
    "print(f'{rex.name} has {rex.paws} paws')\n",
    "rex.bark()\n",
    "\n",
    "print(f'Type: {type(rex)}')\n",
    "print(f'Dir: {dir(rex)}')\n",
    "\n",
    "# This destroys the object\n",
    "rex = 2"
   ]
  },
  {
   "cell_type": "code",
   "execution_count": 37,
   "metadata": {},
   "outputs": [
    {
     "name": "stdout",
     "output_type": "stream",
     "text": [
      "So far 1\n",
      "So far 2\n",
      "So far 3\n"
     ]
    }
   ],
   "source": [
    "class PartyAnimal:\n",
    "    x = 0\n",
    "    def party(self):\n",
    "        self.x += 1\n",
    "        print(f'So far {self.x}')\n",
    "\n",
    "an = PartyAnimal()\n",
    "\n",
    "an.party()\n",
    "an.party()\n",
    "an.party()"
   ]
  },
  {
   "cell_type": "code",
   "execution_count": 69,
   "metadata": {},
   "outputs": [
    {
     "name": "stdout",
     "output_type": "stream",
     "text": [
      "Rex\n",
      "John\n",
      "2\n",
      "bark\n",
      "4\n",
      "black\n",
      "Rex barks\n",
      "Woof woof!\n"
     ]
    }
   ],
   "source": [
    "# Inheritance -> Subclasses\n",
    "\n",
    "# Parent Class\n",
    "class Pet:\n",
    "    def __init__(self, name, owner, age, sound):\n",
    "        self.name = name\n",
    "        self.owner = owner\n",
    "        self.age = age\n",
    "        self.sound = sound\n",
    "\n",
    "    def petSound(self):\n",
    "        print(f'{self.name} {self.sound}s')\n",
    "\n",
    "# Child Class - The class Dog extends Pet\n",
    "class Dog(Pet):\n",
    "    def __init__(self, name, owner, age, sound, paws, color):\n",
    "        # super() makes Dog (child) inherit all methods and classes from Pet (parent)\n",
    "        super().__init__(name, owner, age, sound)\n",
    "        self.paws = paws\n",
    "        self.color = color\n",
    "\n",
    "    def bark(self):\n",
    "        print('Woof woof!')\n",
    "\n",
    "rex = Dog('Rex', 'John', 2, 'bark', 4, 'black')\n",
    "print(rex.name)\n",
    "print(rex.owner)\n",
    "print(rex.age)\n",
    "print(rex.sound)\n",
    "print(rex.paws)\n",
    "print(rex.color)\n",
    "rex.petSound()\n",
    "rex.bark()"
   ]
  },
  {
   "cell_type": "markdown",
   "metadata": {},
   "source": [
    "# Chapter 15: Using Databases and SQL"
   ]
  },
  {
   "cell_type": "markdown",
   "metadata": {},
   "source": [
    "## - Basic Structured Query Language (week 2)"
   ]
  },
  {
   "cell_type": "code",
   "execution_count": 1,
   "metadata": {},
   "outputs": [
    {
     "name": "stdout",
     "output_type": "stream",
     "text": [
      "cwen@iupui.edu 5\n",
      "zqian@umich.edu 4\n",
      "david.horwitz@uct.ac.za 4\n",
      "louis@media.berkeley.edu 3\n",
      "gsilver@umich.edu 3\n",
      "stephen.marquard@uct.ac.za 2\n",
      "rjlowe@iupui.edu 2\n",
      "wagnermr@iupui.edu 1\n",
      "antranig@caret.cam.ac.uk 1\n",
      "gopal.ramasammycook@gmail.com 1\n"
     ]
    }
   ],
   "source": [
    "# SQLite\n",
    "\n",
    "import sqlite3\n",
    "\n",
    "# Create the database\n",
    "conn = sqlite3.connect('emaildb.sqlite')\n",
    "cur = conn.cursor()\n",
    "\n",
    "cur.execute('DROP TABLE IF EXISTS Counts')\n",
    "cur.execute('CREATE TABLE Counts (email TEXT, count INTEGER)')\n",
    "\n",
    "fname = input('Enter file name: ')\n",
    "\n",
    "if (len(fname) < 1): fname = 'mbox-short.txt'\n",
    "with open(fname) as fh:\n",
    "    for line in fh:\n",
    "        if not line.startswith('From: '): continue\n",
    "        pieces = line.split()\n",
    "        email = pieces[1]\n",
    "        cur.execute('SELECT count FROM Counts WHERE email = ?', (email,))\n",
    "        row = cur.fetchone()\n",
    "        if row is None:\n",
    "            cur.execute('INSERT INTO Counts (email, count) VALUES (?,1)', (email,))\n",
    "        else:\n",
    "            cur.execute('UPDATE Counts SET count = count + 1 WHERE email = ?', (email,))\n",
    "\n",
    "conn.commit()\n",
    "\n",
    "sqlstr = 'SELECT email, count FROM Counts ORDER BY count DESC LIMIT 10'\n",
    "\n",
    "for row in cur.execute(sqlstr):\n",
    "    print(row[0], row[1])\n",
    "\n",
    "cur.close()"
   ]
  },
  {
   "cell_type": "code",
   "execution_count": 2,
   "metadata": {},
   "outputs": [
    {
     "name": "stdout",
     "output_type": "stream",
     "text": [
      "('4D61616E61763333',)\n",
      "('53616665656E613138',)\n",
      "('53616666693234',)\n",
      "('5368616E653331',)\n"
     ]
    }
   ],
   "source": [
    "# Assignment: Our First Database\n",
    "\n",
    "import sqlite3\n",
    "\n",
    "conn = sqlite3.connect('sqlite2.sqlite')\n",
    "db = conn.cursor()\n",
    "\n",
    "db.execute('DROP TABLE IF EXISTS Ages')\n",
    "db.execute('CREATE TABLE Ages (name VARCHAR(128), age INTEGER)')\n",
    "\n",
    "commands = ['DELETE FROM Ages;',\n",
    "'INSERT INTO Ages (name, age) VALUES (\"Maanav\", 33);',\n",
    "'INSERT INTO Ages (name, age) VALUES (\"Safeena\", 18);',\n",
    "'INSERT INTO Ages (name, age) VALUES (\"Shane\", 31);',\n",
    "'INSERT INTO Ages (name, age) VALUES (\"Saffi\", 24);'\n",
    "]\n",
    "\n",
    "for command in commands:\n",
    "    db.execute(command)\n",
    "\n",
    "select = 'SELECT hex(name || age) AS X FROM Ages ORDER BY X'\n",
    "\n",
    "for row in db.execute(select):\n",
    "  print(row)\n",
    "\n",
    "db.close()"
   ]
  },
  {
   "cell_type": "code",
   "execution_count": 1,
   "metadata": {},
   "outputs": [
    {
     "name": "stdout",
     "output_type": "stream",
     "text": [
      "('4261796C656967683230',)\n",
      "('43616564796E3135',)\n",
      "('4C61696E613136',)\n",
      "('4C696C79613139',)\n",
      "('4E6174653333',)\n"
     ]
    }
   ],
   "source": [
    "# Assignment: Our First Database (2)\n",
    "\n",
    "import sqlite3\n",
    "\n",
    "conn = sqlite3.connect('sqlite3.sqlite')\n",
    "db = conn.cursor()\n",
    "\n",
    "db.execute('DROP TABLE IF EXISTS Ages')\n",
    "db.execute('CREATE TABLE Ages (name VARCHAR(128), age INTEGER)')\n",
    "\n",
    "commands = ['DELETE FROM Ages;',\n",
    "'INSERT INTO Ages (name, age) VALUES (\"Bayleigh\", 20);',\n",
    "'INSERT INTO Ages (name, age) VALUES (\"Laina\", 16);',\n",
    "'INSERT INTO Ages (name, age) VALUES (\"Caedyn\", 15);',\n",
    "'INSERT INTO Ages (name, age) VALUES (\"Nate\", 33);',\n",
    "'INSERT INTO Ages (name, age) VALUES (\"Lilya\", 19);'\n",
    "]\n",
    "\n",
    "for command in commands:\n",
    "    db.execute(command)\n",
    "\n",
    "select = 'SELECT hex(name || age) AS X FROM Ages ORDER BY X'\n",
    "\n",
    "for row in db.execute(select):\n",
    "  print(row)\n",
    "\n",
    "db.close()"
   ]
  },
  {
   "cell_type": "code",
   "execution_count": 3,
   "metadata": {},
   "outputs": [
    {
     "name": "stdout",
     "output_type": "stream",
     "text": [
      "iupui.edu 536\n",
      "umich.edu 491\n",
      "indiana.edu 178\n",
      "caret.cam.ac.uk 157\n",
      "vt.edu 110\n",
      "uct.ac.za 96\n",
      "media.berkeley.edu 56\n",
      "ufp.pt 28\n",
      "gmail.com 25\n",
      "et.gatech.edu 17\n"
     ]
    }
   ],
   "source": [
    "# Assignment: Counting Organizations\n",
    "\n",
    "import sqlite3\n",
    "\n",
    "# Create the database\n",
    "conn = sqlite3.connect('orgdb.sqlite')\n",
    "cur = conn.cursor()\n",
    "\n",
    "cur.execute('DROP TABLE IF EXISTS Counts')\n",
    "cur.execute('CREATE TABLE Counts (org TEXT, count INTEGER)')\n",
    "\n",
    "fname = 'mbox.txt'\n",
    "\n",
    "with open(fname) as fh:\n",
    "    for line in fh:\n",
    "        if not line.startswith('From: '): continue\n",
    "        email = line.split()[1]\n",
    "        org = email.split('@')[1]\n",
    "        cur.execute('SELECT count FROM Counts WHERE org = ?', (org,))\n",
    "        row = cur.fetchone()\n",
    "        if row is None:\n",
    "            cur.execute('INSERT INTO Counts (org, count) VALUES (?,1)', (org,))\n",
    "        else:\n",
    "            cur.execute('UPDATE Counts SET count = count + 1 WHERE org = ?', (org,))\n",
    "\n",
    "conn.commit()\n",
    "\n",
    "sqlstr = 'SELECT org, count FROM Counts ORDER BY count DESC LIMIT 10'\n",
    "\n",
    "for row in cur.execute(sqlstr):\n",
    "    print(row[0], row[1])\n",
    "\n",
    "cur.close()"
   ]
  },
  {
   "cell_type": "markdown",
   "metadata": {},
   "source": [
    "## - Data Models and Relational SQL (week 3)"
   ]
  },
  {
   "cell_type": "markdown",
   "metadata": {},
   "source": [
    "CREATE TABLE \"Artist\" (\n",
    "\t\"id\"\tINTEGER NOT NULL UNIQUE,\n",
    "\t\"name\"\tTEXT,\n",
    "\tPRIMARY KEY(\"id\" AUTOINCREMENT)\n",
    ");\n",
    "\n",
    "\n",
    "CREATE TABLE \"Genre\" (\n",
    "\t\"id\"\tINTEGER NOT NULL UNIQUE,\n",
    "\t\"name\"\tTEXT,\n",
    "\tPRIMARY KEY(\"id\" AUTOINCREMENT)\n",
    ");\n",
    "\n",
    "\n",
    "CREATE TABLE \"Album\" (\n",
    "\t\"id\"\tINTEGER NOT NULL UNIQUE,\n",
    "\t\"artist_id\"\tINTEGER,\n",
    "\t\"title\"\tTEXT,\n",
    "\tPRIMARY KEY(\"id\" AUTOINCREMENT)\n",
    ");\n",
    "\n",
    "\n",
    "CREATE TABLE \"Track\" (\n",
    "\t\"id\"\tINTEGER NOT NULL UNIQUE,\n",
    "\t\"title\"\tTEXT,\n",
    "\t\"album_id\"\tINTEGER,\n",
    "\t\"genre_id\"\tINTEGER,\n",
    "\t\"len\"\tINTEGER,\n",
    "\t\"rating\"\tINTEGER,\n",
    "\t\"count\"\tINTEGER,\n",
    "\tPRIMARY KEY(\"id\" AUTOINCREMENT)\n",
    ");\n"
   ]
  },
  {
   "cell_type": "code",
   "execution_count": 136,
   "metadata": {},
   "outputs": [],
   "source": [
    "# Tracks Database - CREATE DATABASE AND TABLES\n",
    "\n",
    "import sqlite3\n",
    "\n",
    "conn = sqlite3.connect('tracks_db.sqlite')\n",
    "db = conn.cursor()\n",
    "\n",
    "\n",
    "tableNames = ['Artist', 'Genre', 'Album', 'Track']\n",
    "\n",
    "for tableName in tableNames:\n",
    "    db.execute(f'DROP TABLE IF EXISTS {tableName}')\n",
    "\n",
    "\n",
    "tables = [\n",
    "    '''\n",
    "    CREATE TABLE \"Artist\" (\n",
    "        \"id\"\tINTEGER NOT NULL UNIQUE,\n",
    "        \"name\"\tTEXT,\n",
    "        PRIMARY KEY(\"id\" AUTOINCREMENT)\n",
    "    );\n",
    "    ''',\n",
    "    '''\n",
    "    CREATE TABLE \"Genre\" (\n",
    "        \"id\"\tINTEGER NOT NULL UNIQUE,\n",
    "        \"name\"\tTEXT,\n",
    "        PRIMARY KEY(\"id\" AUTOINCREMENT)\n",
    "    );\n",
    "    ''',\n",
    "    '''\n",
    "    CREATE TABLE \"Album\" (\n",
    "        \"id\"\tINTEGER NOT NULL UNIQUE,\n",
    "        \"artist_id\"\tINTEGER,\n",
    "        \"title\"\tTEXT,\n",
    "        PRIMARY KEY(\"id\" AUTOINCREMENT)\n",
    "    );\n",
    "    ''',\n",
    "    '''\n",
    "    CREATE TABLE \"Track\" (\n",
    "        \"id\"\tINTEGER NOT NULL UNIQUE,\n",
    "        \"title\"\tTEXT,\n",
    "        \"album_id\"\tINTEGER,\n",
    "        \"genre_id\"\tINTEGER,\n",
    "        \"len\"\tINTEGER,\n",
    "        \"rating\"\tINTEGER,\n",
    "        \"count\"\tINTEGER,\n",
    "        PRIMARY KEY(\"id\" AUTOINCREMENT)\n",
    "    );\n",
    "    '''\n",
    "]\n",
    "\n",
    "for table in tables:\n",
    "    db.execute(table)\n",
    "\n",
    "db.close()"
   ]
  },
  {
   "cell_type": "code",
   "execution_count": 138,
   "metadata": {},
   "outputs": [],
   "source": [
    "# Tracks Database - INSERT RELATIONAL DATA\n",
    "\n",
    "import sqlite3\n",
    "\n",
    "conn = sqlite3.connect('tracks_db.sqlite')\n",
    "db = conn.cursor()\n",
    "\n",
    "db.execute('INSERT INTO Artist (name) VALUES (?)', (\"Led Zeppelin\",))\n",
    "db.execute('INSERT INTO Artist (name) VALUES (?)', (\"AC/DC\",))\n",
    "\n",
    "db.execute('INSERT INTO Genre (name) VALUES (?)', (\"Rock\",))\n",
    "db.execute('INSERT INTO Genre (name) VALUES (?)', (\"Metal\",))\n",
    "\n",
    "db.execute('INSERT INTO Album (title, artist_id) VALUES (?,?)', (\"Who Made Who\",2))\n",
    "db.execute('INSERT INTO Album (title, artist_id) VALUES (?,?)', (\"IV\",1))\n",
    "\n",
    "db.execute('INSERT INTO Track (title, rating, len, count, album_id, genre_id) VALUES (?,?,?,?,?,?)', (\"Black Dog\",5,297,0,2,1))\n",
    "db.execute('INSERT INTO Track (title, rating, len, count, album_id, genre_id) VALUES (?,?,?,?,?,?)', (\"Stairway\",5,482,0,2,1))\n",
    "db.execute('INSERT INTO Track (title, rating, len, count, album_id, genre_id) VALUES (?,?,?,?,?,?)', (\"About to Rock\",5,313,0,1,2))\n",
    "db.execute('INSERT INTO Track (title, rating, len, count, album_id, genre_id) VALUES (?,?,?,?,?,?)', (\"Who Made Who\",5,207,0,1,2))\n",
    "\n",
    "conn.commit()\n",
    "db.close()"
   ]
  },
  {
   "cell_type": "code",
   "execution_count": 146,
   "metadata": {},
   "outputs": [
    {
     "name": "stdout",
     "output_type": "stream",
     "text": [
      "--------------\n",
      "Table: Artist / 2 rows\n",
      "(1, 'Led Zeppelin')\n",
      "(2, 'AC/DC')\n",
      "--------------\n",
      "Table: Genre / 2 rows\n",
      "(1, 'Rock')\n",
      "(2, 'Metal')\n",
      "--------------\n",
      "Table: Album / 2 rows\n",
      "(1, 2, 'Who Made Who')\n",
      "(2, 1, 'IV')\n",
      "--------------\n",
      "Table: Track / 4 rows\n",
      "(1, 'Black Dog', 2, 1, 297, 5, 0)\n",
      "(2, 'Stairway', 2, 1, 482, 5, 0)\n",
      "(3, 'About to Rock', 1, 2, 313, 5, 0)\n",
      "(4, 'Who Made Who', 1, 2, 207, 5, 0)\n"
     ]
    }
   ],
   "source": [
    "# Tracks Database - READ ENTIRE DATABASE\n",
    "\n",
    "import sqlite3\n",
    "\n",
    "conn = sqlite3.connect('tracks_db.sqlite')\n",
    "db = conn.cursor()\n",
    "\n",
    "tableNames = ['Artist', 'Genre', 'Album', 'Track']\n",
    "\n",
    "for tableName in tableNames:\n",
    "    print(f'--------------\\nTable: {tableName} ', end='')\n",
    "\n",
    "    numberOfRows = list(db.execute(f'SELECT COUNT(*) FROM {tableName}'))[0][0]\n",
    "    if numberOfRows == 0:\n",
    "        print(f'/ \"{tableName}\" is empity')\n",
    "        continue\n",
    "    else:\n",
    "        s = 's' if numberOfRows > 1 else ''\n",
    "        print(f'/ {numberOfRows} row{s}')\n",
    "\n",
    "    for row in db.execute(f'SELECT * FROM {tableName}'):\n",
    "        print(row)\n",
    "\n",
    "db.close()"
   ]
  },
  {
   "cell_type": "code",
   "execution_count": 159,
   "metadata": {},
   "outputs": [
    {
     "name": "stdout",
     "output_type": "stream",
     "text": [
      "(Album Title, Artist Name)\n",
      "('Who Made Who', 'AC/DC')\n",
      "('IV', 'Led Zeppelin')\n",
      "\n",
      "(Track title, Genre)\n",
      "('Black Dog', 'Rock')\n",
      "('Stairway', 'Rock')\n",
      "('About to Rock', 'Metal')\n",
      "('Who Made Who', 'Metal')\n",
      "\n",
      "(Title, Artist, Album, Genre)\n",
      "('Black Dog', 'Led Zeppelin', 'IV', 'Rock')\n",
      "('Stairway', 'Led Zeppelin', 'IV', 'Rock')\n",
      "('About to Rock', 'AC/DC', 'Who Made Who', 'Metal')\n",
      "('Who Made Who', 'AC/DC', 'Who Made Who', 'Metal')\n"
     ]
    }
   ],
   "source": [
    "# Tracks Database - READ DATA FROM THE DATABASE\n",
    "\n",
    "import sqlite3\n",
    "\n",
    "conn = sqlite3.connect('tracks_db.sqlite')\n",
    "db = conn.cursor()\n",
    "\n",
    "query1 = '''\n",
    "    SELECT Album.title, Artist.name \n",
    "    FROM Album\n",
    "    JOIN Artist\n",
    "    ON Album.artist_id = Artist.id\n",
    "'''\n",
    "\n",
    "print('(Album Title, Artist Name)')\n",
    "\n",
    "for row in db.execute(query1):\n",
    "    print(row)\n",
    "\n",
    "query2 = '''\n",
    "    SELECT Track.title, Genre.name \n",
    "    FROM Track\n",
    "    JOIN Genre\n",
    "    ON Track.genre_id = Genre.id\n",
    "'''\n",
    "\n",
    "print('\\n(Track title, Genre)')\n",
    "\n",
    "for row in db.execute(query2):\n",
    "    print(row)\n",
    "\n",
    "query3 = '''\n",
    "    SELECT Track.title, Artist.name, Album.title, Genre.name \n",
    "    FROM Track\n",
    "    JOIN Genre\n",
    "    JOIN Album\n",
    "    JOIN Artist \n",
    "    ON Track.genre_id = Genre.id\n",
    "    AND Track.album_id = Album.id\n",
    "    AND Album.artist_id = Artist.id\n",
    "'''\n",
    "\n",
    "print('\\n(Title, Artist, Album, Genre)')\n",
    "\n",
    "for row in db.execute(query3):\n",
    "    print(row)\n",
    "\n",
    "db.close()"
   ]
  }
 ],
 "metadata": {
  "interpreter": {
   "hash": "fde92839811899535f1980ad3dab24d92e157ba2c789293b3eeab787fcd034ff"
  },
  "kernelspec": {
   "display_name": "Python 3.10.1 64-bit",
   "language": "python",
   "name": "python3"
  },
  "language_info": {
   "codemirror_mode": {
    "name": "ipython",
    "version": 3
   },
   "file_extension": ".py",
   "mimetype": "text/x-python",
   "name": "python",
   "nbconvert_exporter": "python",
   "pygments_lexer": "ipython3",
   "version": "3.10.1"
  },
  "orig_nbformat": 4
 },
 "nbformat": 4,
 "nbformat_minor": 2
}
