{
 "cells": [
  {
   "cell_type": "markdown",
   "metadata": {},
   "source": [
    "# Chapter 14: Object-oriented programming"
   ]
  },
  {
   "cell_type": "code",
   "execution_count": 44,
   "metadata": {},
   "outputs": [
    {
     "name": "stdout",
     "output_type": "stream",
     "text": [
      "I am destructed :(\n",
      "Rex is black\n",
      "Rex is 2 years old\n",
      "Rex has 4 paws\n",
      "Woof woof\n",
      "Type: <class '__main__.Dog'>\n",
      "Dir: ['__class__', '__del__', '__delattr__', '__dict__', '__dir__', '__doc__', '__eq__', '__format__', '__ge__', '__getattribute__', '__gt__', '__hash__', '__init__', '__init_subclass__', '__le__', '__lt__', '__module__', '__ne__', '__new__', '__reduce__', '__reduce_ex__', '__repr__', '__setattr__', '__sizeof__', '__str__', '__subclasshook__', '__weakref__', 'age', 'bark', 'color', 'name', 'paws']\n",
      "I am destructed :(\n"
     ]
    }
   ],
   "source": [
    "# Classes (cookie cutter) and Objects (cookie)\n",
    "\n",
    "class Dog:\n",
    "    # Constructor\n",
    "    def __init__(self, name, color, age):\n",
    "        # Attributes defined when instantiating the object\n",
    "        self.name = name\n",
    "        self.color = color\n",
    "        self.age = age\n",
    "\n",
    "    # Attribute\n",
    "    paws = 4\n",
    "\n",
    "    # Method\n",
    "    def bark(self):\n",
    "        print(\"Woof woof\")\n",
    "\n",
    "    # Destructor\n",
    "    def __del__(self):\n",
    "        print('I am destructed :(')\n",
    "\n",
    "# This instantiates the object\n",
    "rex = Dog('Rex', 'black', 2)\n",
    "\n",
    "print(f'{rex.name} is {rex.color}')\n",
    "print(f'{rex.name} is {rex.age} years old')\n",
    "print(f'{rex.name} has {rex.paws} paws')\n",
    "rex.bark()\n",
    "\n",
    "print(f'Type: {type(rex)}')\n",
    "print(f'Dir: {dir(rex)}')\n",
    "\n",
    "# This destroys the object\n",
    "rex = 2"
   ]
  },
  {
   "cell_type": "code",
   "execution_count": 37,
   "metadata": {},
   "outputs": [
    {
     "name": "stdout",
     "output_type": "stream",
     "text": [
      "So far 1\n",
      "So far 2\n",
      "So far 3\n"
     ]
    }
   ],
   "source": [
    "class PartyAnimal:\n",
    "    x = 0\n",
    "    def party(self):\n",
    "        self.x += 1\n",
    "        print(f'So far {self.x}')\n",
    "\n",
    "an = PartyAnimal()\n",
    "\n",
    "an.party()\n",
    "an.party()\n",
    "an.party()"
   ]
  },
  {
   "cell_type": "code",
   "execution_count": 69,
   "metadata": {},
   "outputs": [
    {
     "name": "stdout",
     "output_type": "stream",
     "text": [
      "Rex\n",
      "John\n",
      "2\n",
      "bark\n",
      "4\n",
      "black\n",
      "Rex barks\n",
      "Woof woof!\n"
     ]
    }
   ],
   "source": [
    "# Inheritance -> Subclasses\n",
    "\n",
    "# Parent Class\n",
    "class Pet:\n",
    "    def __init__(self, name, owner, age, sound):\n",
    "        self.name = name\n",
    "        self.owner = owner\n",
    "        self.age = age\n",
    "        self.sound = sound\n",
    "\n",
    "    def petSound(self):\n",
    "        print(f'{self.name} {self.sound}s')\n",
    "\n",
    "# Child Class - The class Dog extends Pet\n",
    "class Dog(Pet):\n",
    "    def __init__(self, name, owner, age, sound, paws, color):\n",
    "        # super() makes Dog (child) inherit all methods and classes from Pet (parent)\n",
    "        super().__init__(name, owner, age, sound)\n",
    "        self.paws = paws\n",
    "        self.color = color\n",
    "\n",
    "    def bark(self):\n",
    "        print('Woof woof!')\n",
    "\n",
    "rex = Dog('Rex', 'John', 2, 'bark', 4, 'black')\n",
    "print(rex.name)\n",
    "print(rex.owner)\n",
    "print(rex.age)\n",
    "print(rex.sound)\n",
    "print(rex.paws)\n",
    "print(rex.color)\n",
    "rex.petSound()\n",
    "rex.bark()"
   ]
  },
  {
   "cell_type": "markdown",
   "metadata": {},
   "source": [
    "# Chapter 15: Using Databases and SQL"
   ]
  },
  {
   "cell_type": "markdown",
   "metadata": {},
   "source": [
    "## - Relational Databases"
   ]
  },
  {
   "cell_type": "code",
   "execution_count": 97,
   "metadata": {},
   "outputs": [
    {
     "name": "stdout",
     "output_type": "stream",
     "text": [
      "cwen@iupui.edu 5\n",
      "zqian@umich.edu 4\n",
      "david.horwitz@uct.ac.za 4\n",
      "louis@media.berkeley.edu 3\n",
      "gsilver@umich.edu 3\n",
      "stephen.marquard@uct.ac.za 2\n",
      "rjlowe@iupui.edu 2\n",
      "wagnermr@iupui.edu 1\n",
      "antranig@caret.cam.ac.uk 1\n",
      "gopal.ramasammycook@gmail.com 1\n"
     ]
    }
   ],
   "source": [
    "# SQLite\n",
    "\n",
    "import sqlite3\n",
    "\n",
    "# Create the database\n",
    "conn = sqlite3.connect('emaildb.sqlite')\n",
    "cur = conn.cursor()\n",
    "\n",
    "cur.execute('DROP TABLE IF EXISTS Counts')\n",
    "cur.execute('CREATE TABLE Counts (email TEXT, count INTEGER)')\n",
    "\n",
    "fname = input('Enter file name: ')\n",
    "\n",
    "if (len(fname) < 1): fname = 'mbox-short.txt'\n",
    "with open(fname) as fh:\n",
    "    for line in fh:\n",
    "        if not line.startswith('From: '): continue\n",
    "        pieces = line.split()\n",
    "        email = pieces[1]\n",
    "        cur.execute('SELECT count FROM Counts WHERE email = ?', (email,))\n",
    "        row = cur.fetchone()\n",
    "        if row is None:\n",
    "            cur.execute('INSERT INTO Counts (email, count) VALUES (?,1)', (email,))\n",
    "        else:\n",
    "            cur.execute('UPDATE Counts SET count = count + 1 WHERE email = ?', (email,))\n",
    "        conn.commit()\n",
    "\n",
    "sqlstr = 'SELECT email, count FROM Counts ORDER BY count DESC LIMIT 10'\n",
    "\n",
    "for row in cur.execute(sqlstr):\n",
    "    print(row[0], row[1])\n",
    "\n",
    "cur.close()"
   ]
  }
 ],
 "metadata": {
  "interpreter": {
   "hash": "fde92839811899535f1980ad3dab24d92e157ba2c789293b3eeab787fcd034ff"
  },
  "kernelspec": {
   "display_name": "Python 3.10.1 64-bit",
   "language": "python",
   "name": "python3"
  },
  "language_info": {
   "codemirror_mode": {
    "name": "ipython",
    "version": 3
   },
   "file_extension": ".py",
   "mimetype": "text/x-python",
   "name": "python",
   "nbconvert_exporter": "python",
   "pygments_lexer": "ipython3",
   "version": "3.10.1"
  },
  "orig_nbformat": 4
 },
 "nbformat": 4,
 "nbformat_minor": 2
}
