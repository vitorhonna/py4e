{
 "cells": [
  {
   "cell_type": "markdown",
   "metadata": {},
   "source": [
    "# Chapter 14: Object-oriented programming"
   ]
  },
  {
   "cell_type": "code",
   "execution_count": 44,
   "metadata": {},
   "outputs": [
    {
     "name": "stdout",
     "output_type": "stream",
     "text": [
      "I am destructed :(\n",
      "Rex is black\n",
      "Rex is 2 years old\n",
      "Rex has 4 paws\n",
      "Woof woof\n",
      "Type: <class '__main__.Dog'>\n",
      "Dir: ['__class__', '__del__', '__delattr__', '__dict__', '__dir__', '__doc__', '__eq__', '__format__', '__ge__', '__getattribute__', '__gt__', '__hash__', '__init__', '__init_subclass__', '__le__', '__lt__', '__module__', '__ne__', '__new__', '__reduce__', '__reduce_ex__', '__repr__', '__setattr__', '__sizeof__', '__str__', '__subclasshook__', '__weakref__', 'age', 'bark', 'color', 'name', 'paws']\n",
      "I am destructed :(\n"
     ]
    }
   ],
   "source": [
    "# Classes (cookie cutter) and Objects (cookie)\n",
    "\n",
    "class Dog:\n",
    "    # Constructor\n",
    "    def __init__(self, name, color, age):\n",
    "        # Attributes defined when instantiating the object\n",
    "        self.name = name\n",
    "        self.color = color\n",
    "        self.age = age\n",
    "\n",
    "    # Attribute\n",
    "    paws = 4\n",
    "\n",
    "    # Method\n",
    "    def bark(self):\n",
    "        print(\"Woof woof\")\n",
    "\n",
    "    # Destructor\n",
    "    def __del__(self):\n",
    "        print('I am destructed :(')\n",
    "\n",
    "# This instantiates the object\n",
    "rex = Dog('Rex', 'black', 2)\n",
    "\n",
    "print(f'{rex.name} is {rex.color}')\n",
    "print(f'{rex.name} is {rex.age} years old')\n",
    "print(f'{rex.name} has {rex.paws} paws')\n",
    "rex.bark()\n",
    "\n",
    "print(f'Type: {type(rex)}')\n",
    "print(f'Dir: {dir(rex)}')\n",
    "\n",
    "# This destroys the object\n",
    "rex = 2"
   ]
  },
  {
   "cell_type": "code",
   "execution_count": 37,
   "metadata": {},
   "outputs": [
    {
     "name": "stdout",
     "output_type": "stream",
     "text": [
      "So far 1\n",
      "So far 2\n",
      "So far 3\n"
     ]
    }
   ],
   "source": [
    "class PartyAnimal:\n",
    "    x = 0\n",
    "    def party(self):\n",
    "        self.x += 1\n",
    "        print(f'So far {self.x}')\n",
    "\n",
    "an = PartyAnimal()\n",
    "\n",
    "an.party()\n",
    "an.party()\n",
    "an.party()"
   ]
  },
  {
   "cell_type": "code",
   "execution_count": 69,
   "metadata": {},
   "outputs": [
    {
     "name": "stdout",
     "output_type": "stream",
     "text": [
      "Rex\n",
      "John\n",
      "2\n",
      "bark\n",
      "4\n",
      "black\n",
      "Rex barks\n",
      "Woof woof!\n"
     ]
    }
   ],
   "source": [
    "# Inheritance -> Subclasses\n",
    "\n",
    "# Parent Class\n",
    "class Pet:\n",
    "    def __init__(self, name, owner, age, sound):\n",
    "        self.name = name\n",
    "        self.owner = owner\n",
    "        self.age = age\n",
    "        self.sound = sound\n",
    "\n",
    "    def petSound(self):\n",
    "        print(f'{self.name} {self.sound}s')\n",
    "\n",
    "# Child Class - The class Dog extends Pet\n",
    "class Dog(Pet):\n",
    "    def __init__(self, name, owner, age, sound, paws, color):\n",
    "        # super() makes Dog (child) inherit all methods and classes from Pet (parent)\n",
    "        super().__init__(name, owner, age, sound)\n",
    "        self.paws = paws\n",
    "        self.color = color\n",
    "\n",
    "    def bark(self):\n",
    "        print('Woof woof!')\n",
    "\n",
    "rex = Dog('Rex', 'John', 2, 'bark', 4, 'black')\n",
    "print(rex.name)\n",
    "print(rex.owner)\n",
    "print(rex.age)\n",
    "print(rex.sound)\n",
    "print(rex.paws)\n",
    "print(rex.color)\n",
    "rex.petSound()\n",
    "rex.bark()"
   ]
  },
  {
   "cell_type": "markdown",
   "metadata": {},
   "source": [
    "# Chapter 15: Using Databases and SQL"
   ]
  },
  {
   "cell_type": "markdown",
   "metadata": {},
   "source": [
    "## - Relational Databases"
   ]
  },
  {
   "cell_type": "code",
   "execution_count": 1,
   "metadata": {},
   "outputs": [
    {
     "name": "stdout",
     "output_type": "stream",
     "text": [
      "cwen@iupui.edu 5\n",
      "zqian@umich.edu 4\n",
      "david.horwitz@uct.ac.za 4\n",
      "louis@media.berkeley.edu 3\n",
      "gsilver@umich.edu 3\n",
      "stephen.marquard@uct.ac.za 2\n",
      "rjlowe@iupui.edu 2\n",
      "wagnermr@iupui.edu 1\n",
      "antranig@caret.cam.ac.uk 1\n",
      "gopal.ramasammycook@gmail.com 1\n"
     ]
    }
   ],
   "source": [
    "# SQLite\n",
    "\n",
    "import sqlite3\n",
    "\n",
    "# Create the database\n",
    "conn = sqlite3.connect('emaildb.sqlite')\n",
    "cur = conn.cursor()\n",
    "\n",
    "cur.execute('DROP TABLE IF EXISTS Counts')\n",
    "cur.execute('CREATE TABLE Counts (email TEXT, count INTEGER)')\n",
    "\n",
    "fname = input('Enter file name: ')\n",
    "\n",
    "if (len(fname) < 1): fname = 'mbox-short.txt'\n",
    "with open(fname) as fh:\n",
    "    for line in fh:\n",
    "        if not line.startswith('From: '): continue\n",
    "        pieces = line.split()\n",
    "        email = pieces[1]\n",
    "        cur.execute('SELECT count FROM Counts WHERE email = ?', (email,))\n",
    "        row = cur.fetchone()\n",
    "        if row is None:\n",
    "            cur.execute('INSERT INTO Counts (email, count) VALUES (?,1)', (email,))\n",
    "        else:\n",
    "            cur.execute('UPDATE Counts SET count = count + 1 WHERE email = ?', (email,))\n",
    "\n",
    "conn.commit()\n",
    "\n",
    "sqlstr = 'SELECT email, count FROM Counts ORDER BY count DESC LIMIT 10'\n",
    "\n",
    "for row in cur.execute(sqlstr):\n",
    "    print(row[0], row[1])\n",
    "\n",
    "cur.close()"
   ]
  },
  {
   "cell_type": "code",
   "execution_count": 2,
   "metadata": {},
   "outputs": [
    {
     "name": "stdout",
     "output_type": "stream",
     "text": [
      "('4D61616E61763333',)\n",
      "('53616665656E613138',)\n",
      "('53616666693234',)\n",
      "('5368616E653331',)\n"
     ]
    }
   ],
   "source": [
    "# Assignment: Our First Database\n",
    "\n",
    "import sqlite3\n",
    "\n",
    "conn = sqlite3.connect('sqlite2.sqlite')\n",
    "db = conn.cursor()\n",
    "\n",
    "db.execute('DROP TABLE IF EXISTS Ages')\n",
    "db.execute('CREATE TABLE Ages (name VARCHAR(128), age INTEGER)')\n",
    "\n",
    "commands = ['DELETE FROM Ages;',\n",
    "'INSERT INTO Ages (name, age) VALUES (\"Maanav\", 33);',\n",
    "'INSERT INTO Ages (name, age) VALUES (\"Safeena\", 18);',\n",
    "'INSERT INTO Ages (name, age) VALUES (\"Shane\", 31);',\n",
    "'INSERT INTO Ages (name, age) VALUES (\"Saffi\", 24);'\n",
    "]\n",
    "\n",
    "for command in commands:\n",
    "    db.execute(command)\n",
    "\n",
    "select = 'SELECT hex(name || age) AS X FROM Ages ORDER BY X'\n",
    "\n",
    "for row in db.execute(select):\n",
    "  print(row)\n",
    "\n",
    "db.close()"
   ]
  },
  {
   "cell_type": "code",
   "execution_count": 3,
   "metadata": {},
   "outputs": [
    {
     "name": "stdout",
     "output_type": "stream",
     "text": [
      "iupui.edu 536\n",
      "umich.edu 491\n",
      "indiana.edu 178\n",
      "caret.cam.ac.uk 157\n",
      "vt.edu 110\n",
      "uct.ac.za 96\n",
      "media.berkeley.edu 56\n",
      "ufp.pt 28\n",
      "gmail.com 25\n",
      "et.gatech.edu 17\n"
     ]
    }
   ],
   "source": [
    "# Assignment: Counting Organizations\n",
    "\n",
    "import sqlite3\n",
    "\n",
    "# Create the database\n",
    "conn = sqlite3.connect('orgdb.sqlite')\n",
    "cur = conn.cursor()\n",
    "\n",
    "cur.execute('DROP TABLE IF EXISTS Counts')\n",
    "cur.execute('CREATE TABLE Counts (org TEXT, count INTEGER)')\n",
    "\n",
    "fname = 'mbox.txt'\n",
    "\n",
    "with open(fname) as fh:\n",
    "    for line in fh:\n",
    "        if not line.startswith('From: '): continue\n",
    "        email = line.split()[1]\n",
    "        org = email.split('@')[1]\n",
    "        cur.execute('SELECT count FROM Counts WHERE org = ?', (org,))\n",
    "        row = cur.fetchone()\n",
    "        if row is None:\n",
    "            cur.execute('INSERT INTO Counts (org, count) VALUES (?,1)', (org,))\n",
    "        else:\n",
    "            cur.execute('UPDATE Counts SET count = count + 1 WHERE org = ?', (org,))\n",
    "\n",
    "conn.commit()\n",
    "\n",
    "sqlstr = 'SELECT org, count FROM Counts ORDER BY count DESC LIMIT 10'\n",
    "\n",
    "for row in cur.execute(sqlstr):\n",
    "    print(row[0], row[1])\n",
    "\n",
    "cur.close()"
   ]
  }
 ],
 "metadata": {
  "interpreter": {
   "hash": "07d04b6e7c19cb9dc983cedc3b30853c090c62927930fc81e20c98e28a5e15bc"
  },
  "kernelspec": {
   "display_name": "Python 3.8.8 64-bit ('base': conda)",
   "language": "python",
   "name": "python3"
  },
  "language_info": {
   "codemirror_mode": {
    "name": "ipython",
    "version": 3
   },
   "file_extension": ".py",
   "mimetype": "text/x-python",
   "name": "python",
   "nbconvert_exporter": "python",
   "pygments_lexer": "ipython3",
   "version": "3.8.8"
  },
  "orig_nbformat": 4
 },
 "nbformat": 4,
 "nbformat_minor": 2
}
